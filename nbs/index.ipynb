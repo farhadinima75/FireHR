{
 "cells": [
  {
   "cell_type": "code",
   "execution_count": null,
   "metadata": {},
   "outputs": [],
   "source": [
    "#hide\n",
    "from nbdev.export import notebook2script\n",
    "from FireHR.cli import *"
   ]
  },
  {
   "cell_type": "markdown",
   "metadata": {},
   "source": [
    "# A Practical Method for High-Resolution Burned Areas Monitoring using Sentinel-2 and VIIRS \n",
    "\n",
    "> [placeholder]"
   ]
  },
  {
   "cell_type": "markdown",
   "metadata": {},
   "source": [
    "## Install"
   ]
  },
  {
   "cell_type": "markdown",
   "metadata": {},
   "source": [
    "`pip install FireHR`"
   ]
  },
  {
   "cell_type": "markdown",
   "metadata": {},
   "source": [
    "## How to use"
   ]
  },
  {
   "cell_type": "markdown",
   "metadata": {},
   "source": [
    "Command line utility to run FireHR for an event as outputed by BA-Net post-processing:\n",
    "```bash\n",
    "firehr_from_banet_events ba100m_PT2020_218.tif\n",
    "```\n",
    "\n",
    "Optional arguments:\n",
    "\n",
    "|Argument|default|type|description|\n",
    "|---|---|---|---|\n",
    "|path| '.' | str |Path to save the outputs.|\n",
    "|composite_days_before| 120 |int| Time window size in days for the pre-fire data |\n",
    "|composite_days_after| 120 |int| Time window size in days for the post-fire data |\n",
    "|max_cloud_fraction| None |float (0.0-1.0)| Remove images with a cloud fraction higher than specified |\n",
    "|use_least_cloudy | None |int| Select the n least cloudy images in the time_window |\n",
    "\n",
    "Example using `use_least_cloudy` parameter:\n",
    "```bash\n",
    "firehr_from_banet_events ba100m_PT2020_218.tif --use_least_cloudy 5\n",
    "```"
   ]
  },
  {
   "cell_type": "code",
   "execution_count": null,
   "metadata": {},
   "outputs": [
    {
     "name": "stdout",
     "output_type": "stream",
     "text": [
      "Converted 01_data.ipynb.\n",
      "Converted 02_models.ipynb.\n",
      "Converted 04_predict.ipynb.\n",
      "Converted 05_cli.ipynb.\n",
      "Converted index.ipynb.\n"
     ]
    }
   ],
   "source": [
    "#hide\n",
    "notebook2script()"
   ]
  }
 ],
 "metadata": {
  "kernelspec": {
   "display_name": "Python 3",
   "language": "python",
   "name": "python3"
  }
 },
 "nbformat": 4,
 "nbformat_minor": 2
}
