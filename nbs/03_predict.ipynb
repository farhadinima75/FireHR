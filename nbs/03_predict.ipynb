{
 "cells": [
  {
   "cell_type": "code",
   "execution_count": null,
   "metadata": {},
   "outputs": [],
   "source": [
    "# default_exp predict"
   ]
  },
  {
   "cell_type": "markdown",
   "metadata": {},
   "source": [
    "# Predict\n",
    "> Functions to get model predictions for the high resolution burned area maps."
   ]
  },
  {
   "cell_type": "code",
   "execution_count": null,
   "metadata": {},
   "outputs": [],
   "source": [
    "#hide\n",
    "from nbdev.export import notebook2script"
   ]
  },
  {
   "cell_type": "code",
   "execution_count": null,
   "metadata": {},
   "outputs": [],
   "source": [
    "#export\n",
    "import numpy as np\n",
    "import pandas as pd\n",
    "import torch\n",
    "import rasterio\n",
    "import matplotlib.pyplot as plt\n",
    "from pathlib import Path\n",
    "from fastprogress import progress_bar\n",
    "from banet.predict import image2tiles, tiles2image\n",
    "from rasterio.crs import CRS\n",
    "from fire_split.core import split_fires, save_data, to_polygon\n",
    "from FireHR.data import download_data, RegionST, get_event_data\n",
    "from FireHR.models import *"
   ]
  },
  {
   "cell_type": "code",
   "execution_count": null,
   "metadata": {},
   "outputs": [],
   "source": [
    "#export\n",
    "def get_preds(im, thr=0.5, tile_size=2048, tile_step=2000, max_image_size=2048, \n",
    "              coarse_mask_expansion_size=101, gpu=True):\n",
    "    if not gpu: max_image_size=10000\n",
    "    image_size = im.shape[:2]\n",
    "    if max(image_size) < max_image_size:\n",
    "        im = torch.from_numpy(im)[None].permute(0,3,1,2).float()\n",
    "    else:\n",
    "        im = torch.from_numpy(\n",
    "            image2tiles(im, step=tile_step, size=tile_size)).permute(0,3,1,2).float()\n",
    "    model = load_pretrained_model(gpu=gpu)\n",
    "    outs = []\n",
    "    print('Generating model predicitons...')\n",
    "    with torch.no_grad():\n",
    "        for im0 in progress_bar(im):\n",
    "            im0 = im0[None]\n",
    "            im0 = expand_filter(im0, ks=coarse_mask_expansion_size)\n",
    "            if gpu:\n",
    "                out = model(im0.half().cuda()).squeeze().sigmoid()\n",
    "            else:\n",
    "                out = model(im0).squeeze().sigmoid()\n",
    "            out = out.cpu().numpy()\n",
    "            outs.append(out)\n",
    "\n",
    "    outs = np.array(outs)\n",
    "    if max(image_size) > max_image_size:\n",
    "        out = tiles2image(outs, image_size, size=tile_size, step=tile_step)\n",
    "    else: out = outs.squeeze().astype(np.float32)\n",
    "    out[out<thr] = 0\n",
    "    return out"
   ]
  },
  {
   "cell_type": "code",
   "execution_count": null,
   "metadata": {},
   "outputs": [
    {
     "name": "stdout",
     "output_type": "stream",
     "text": [
      "Event time_start: 2020-05-06 00:00:00\n",
      "Event time_end: 2020-09-11 00:00:00\n",
      "Downloading GEE median composite for: 2020-03-06 00:00:00 to 2020-05-05 00:00:00\n",
      "Downloading GEE median composite for: 2020-09-12 00:00:00 to 2020-11-11 00:00:00\n",
      "Generating model predicitons...\n"
     ]
    },
    {
     "data": {
      "text/html": [
       "\n",
       "    <div>\n",
       "        <style>\n",
       "            /* Turns off some styling */\n",
       "            progress {\n",
       "                /* gets rid of default border in Firefox and Opera. */\n",
       "                border: none;\n",
       "                /* Needs to be in here for Safari polyfill so background images work as expected. */\n",
       "                background-size: auto;\n",
       "            }\n",
       "            .progress-bar-interrupted, .progress-bar-interrupted::-webkit-progress-bar {\n",
       "                background: #F44336;\n",
       "            }\n",
       "        </style>\n",
       "      <progress value='1' class='' max='1' style='width:300px; height:20px; vertical-align: middle;'></progress>\n",
       "      100.00% [1/1 00:02<00:00]\n",
       "    </div>\n",
       "    "
      ],
      "text/plain": [
       "<IPython.core.display.HTML object>"
      ]
     },
     "metadata": {},
     "output_type": "display_data"
    },
    {
     "data": {
      "image/png": "[encoded data removed]",
      "text/plain": [
       "<Figure size 432x288 with 1 Axes>"
      ]
     },
     "metadata": {
      "needs_background": "light"
     },
     "output_type": "display_data"
    }
   ],
   "source": [
    "#local\n",
    "im, transform, crs = get_event_data('temp', 2020, 'temp/banet100m.tif')\n",
    "preds = get_preds(im)\n",
    "plt.imshow(preds);"
   ]
  },
  {
   "cell_type": "code",
   "execution_count": null,
   "metadata": {},
   "outputs": [
    {
     "name": "stdout",
     "output_type": "stream",
     "text": [
      "Converted 01_data.ipynb.\n",
      "Converted 02_models.ipynb.\n",
      "Converted 03_predict.ipynb.\n",
      "Converted 04_cli.ipynb.\n",
      "Converted index.ipynb.\n"
     ]
    }
   ],
   "source": [
    "#hide\n",
    "notebook2script()"
   ]
  }
 ],
 "metadata": {
  "kernelspec": {
   "display_name": "Python (banet_dev)",
   "language": "python",
   "name": "banet_dev"
  }
 },
 "nbformat": 4,
 "nbformat_minor": 4
}
