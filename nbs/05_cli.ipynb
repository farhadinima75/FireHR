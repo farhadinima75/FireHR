{
 "cells": [
  {
   "cell_type": "code",
   "execution_count": null,
   "metadata": {},
   "outputs": [],
   "source": [
    "# default_exp cli"
   ]
  },
  {
   "cell_type": "markdown",
   "metadata": {},
   "source": [
    "# Command line tools\n",
    ">Functions to use FireHR on the command line."
   ]
  },
  {
   "cell_type": "code",
   "execution_count": null,
   "metadata": {},
   "outputs": [],
   "source": [
    "#hide\n",
    "from nbdev.export import notebook2script"
   ]
  },
  {
   "cell_type": "code",
   "execution_count": null,
   "metadata": {},
   "outputs": [],
   "source": [
    "#export\n",
    "from pathlib import Path\n",
    "import re\n",
    "import numpy as np\n",
    "from fastscript import *\n",
    "from fire_split.core import save_data\n",
    "from FireHR.data import get_event_data\n",
    "from FireHR.predict import get_preds"
   ]
  },
  {
   "cell_type": "code",
   "execution_count": null,
   "metadata": {},
   "outputs": [],
   "source": [
    "#export\n",
    "@call_parse\n",
    "def firehr_from_banet_events(\n",
    "        file:Param(\"BA-Net event tif file\",str), \n",
    "        path:Param(\"Path to save outputs\",str)='.',\n",
    "        composite_days_before:Param(\"Time window for composite before fire\",int)=120,\n",
    "        composite_days_after:Param(\"Time window for composite after fire\",int)=120,\n",
    "        max_cloud_fraction:Param(\"Maximum fraction of cloud pixels\",float)=None,\n",
    "        use_least_cloudy:Param(\"Number of least cloudy images to use\",int)=None):\n",
    "    path = Path(path)\n",
    "    path.mkdir(exist_ok=True, parents=True)\n",
    "    event_id = '_'.join(Path(file).stem.split('_')[1:])\n",
    "    year = int(re.findall('(\\d{4})', Path(file).stem.split('_')[1])[0])\n",
    "    im, transform, crs = get_event_data(\n",
    "        event_id, year, file, composite_days=[composite_days_before,composite_days_after],\n",
    "        max_cloud_fraction=max_cloud_fraction, use_least_cloudy=use_least_cloudy, path=path)\n",
    "    preds = get_preds(im, gpu=False)\n",
    "    save_data(path/f'{event_id}/firehr_{event_id}.tif', (preds*255).astype(np.uint8), crs=crs, transform=transform)"
   ]
  },
  {
   "cell_type": "code",
   "execution_count": null,
   "metadata": {},
   "outputs": [
    {
     "name": "stdout",
     "output_type": "stream",
     "text": [
      "Converted 01_data.ipynb.\n",
      "Converted 02_models.ipynb.\n",
      "Converted 04_predict.ipynb.\n",
      "Converted 05_cli.ipynb.\n",
      "Converted index.ipynb.\n"
     ]
    }
   ],
   "source": [
    "#hide\n",
    "notebook2script()"
   ]
  }
 ],
 "metadata": {
  "kernelspec": {
   "display_name": "Python (banet_dev)",
   "language": "python",
   "name": "banet_dev"
  }
 },
 "nbformat": 4,
 "nbformat_minor": 4
}
